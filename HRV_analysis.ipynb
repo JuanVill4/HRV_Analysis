{
 "cells": [
  {
   "cell_type": "code",
   "execution_count": 1,
   "metadata": {},
   "outputs": [],
   "source": [
    "import math\n",
    "import cv2\n",
    "import numpy as np\n",
    "import pandas as pd\n",
    "import matplotlib.pyplot as plt\n",
    "# import functions from the scipy.signal module for signal processing\n",
    "from scipy.signal import butter, filtfilt, find_peaks\n",
    "import scipy.signal as signal\n",
    "#import and mount the drive module to access files and directories from Google Drive\n"
   ]
  },
  {
   "cell_type": "code",
   "execution_count": 2,
   "metadata": {},
   "outputs": [
    {
     "name": "stdout",
     "output_type": "stream",
     "text": [
      "60\n"
     ]
    }
   ],
   "source": [
    "# Carga el clasificador Haarcascade preentrenado para detección de caras\n",
    "face_cascade = cv2.CascadeClassifier(cv2.data.haarcascades + 'haarcascade_frontalface_default.xml')\n",
    "\n",
    "# Carga el video desde tu computadora a Google Colab\n",
    "video_filename = \"Juan60.mp4\"\n",
    "# Abre el video\n",
    "cap = cv2.VideoCapture(video_filename)\n",
    "fps = cap.get(cv2.CAP_PROP_FPS)\n",
    "fs = round(fps)\n",
    "print(fs)"
   ]
  },
  {
   "cell_type": "code",
   "execution_count": 3,
   "metadata": {},
   "outputs": [],
   "source": [
    "# Añadimos una función para reducir la resolución del frame\n",
    "def resize_frame(frame, scale_percent):\n",
    "    width = int(frame.shape[1] * scale_percent / 100)\n",
    "    height = int(frame.shape[0] * scale_percent / 100)\n",
    "    dim = (width, height)\n",
    "    return cv2.resize(frame, dim, interpolation = cv2.INTER_AREA)"
   ]
  },
  {
   "cell_type": "code",
   "execution_count": 4,
   "metadata": {},
   "outputs": [
    {
     "ename": "KeyboardInterrupt",
     "evalue": "",
     "output_type": "error",
     "traceback": [
      "\u001b[1;31m---------------------------------------------------------------------------\u001b[0m",
      "\u001b[1;31mKeyboardInterrupt\u001b[0m                         Traceback (most recent call last)",
      "\u001b[1;32mc:\\Users\\juanv\\Documents\\HRV_Analysis\\HRV_analysis.ipynb Cell 4\u001b[0m line \u001b[0;36m3\n\u001b[0;32m     <a href='vscode-notebook-cell:/c%3A/Users/juanv/Documents/HRV_Analysis/HRV_analysis.ipynb#W3sZmlsZQ%3D%3D?line=28'>29</a>\u001b[0m \u001b[39melse\u001b[39;00m:\n\u001b[0;32m     <a href='vscode-notebook-cell:/c%3A/Users/juanv/Documents/HRV_Analysis/HRV_analysis.ipynb#W3sZmlsZQ%3D%3D?line=29'>30</a>\u001b[0m     \u001b[39m# Incrementamos el contador de frames\u001b[39;00m\n\u001b[0;32m     <a href='vscode-notebook-cell:/c%3A/Users/juanv/Documents/HRV_Analysis/HRV_analysis.ipynb#W3sZmlsZQ%3D%3D?line=30'>31</a>\u001b[0m     frame_count \u001b[39m+\u001b[39m\u001b[39m=\u001b[39m \u001b[39m1\u001b[39m\n\u001b[1;32m---> <a href='vscode-notebook-cell:/c%3A/Users/juanv/Documents/HRV_Analysis/HRV_analysis.ipynb#W3sZmlsZQ%3D%3D?line=32'>33</a>\u001b[0m     success, bbox \u001b[39m=\u001b[39m tracker\u001b[39m.\u001b[39;49mupdate(frame)\n\u001b[0;32m     <a href='vscode-notebook-cell:/c%3A/Users/juanv/Documents/HRV_Analysis/HRV_analysis.ipynb#W3sZmlsZQ%3D%3D?line=33'>34</a>\u001b[0m     \u001b[39mif\u001b[39;00m success:  \u001b[39m# Calculamos el valor medio del verde cada 10 frames\u001b[39;00m\n\u001b[0;32m     <a href='vscode-notebook-cell:/c%3A/Users/juanv/Documents/HRV_Analysis/HRV_analysis.ipynb#W3sZmlsZQ%3D%3D?line=34'>35</a>\u001b[0m         x, y, w, h \u001b[39m=\u001b[39m \u001b[39mmap\u001b[39m(\u001b[39mint\u001b[39m, bbox)\n",
      "\u001b[1;31mKeyboardInterrupt\u001b[0m: "
     ]
    }
   ],
   "source": [
    "\n",
    "# Inicializa el seguimiento de la cara\n",
    "tracker = cv2.TrackerKCF_create()\n",
    "init_tracking = False\n",
    "\n",
    "green_values = []\n",
    "frame_count = 0  # Añadimos un contador de frames\n",
    "\n",
    "# Asumimos que 'cap' y 'face_cascade' están definidos antes de este fragmento de código\n",
    "\n",
    "while cap.isOpened():\n",
    "    ret, frame = cap.read()\n",
    "    if not ret:\n",
    "        break\n",
    "\n",
    "    # Reducimos el tamaño del frame a un 50%\n",
    "    frame = resize_frame(frame, scale_percent=80)\n",
    "\n",
    "    if not init_tracking:\n",
    "        # Convertimos el frame a escala de grises solo si estamos en la fase de detección\n",
    "        gray = cv2.cvtColor(frame, cv2.COLOR_BGR2GRAY)\n",
    "\n",
    "        # Modificamos los parámetros para posiblemente acelerar la detección\n",
    "        faces = face_cascade.detectMultiScale(gray, scaleFactor=1.6, minNeighbors=5, minSize=(20, 20))\n",
    "\n",
    "        if len(faces) > 0:\n",
    "            x, y, w, h = faces[0]\n",
    "            tracker.init(frame, (x, y, w, h))\n",
    "            init_tracking = True\n",
    "    else:\n",
    "        # Incrementamos el contador de frames\n",
    "        frame_count += 1\n",
    "\n",
    "        success, bbox = tracker.update(frame)\n",
    "        if success:  # Calculamos el valor medio del verde cada 10 frames\n",
    "            x, y, w, h = map(int, bbox)\n",
    "            face_roi = frame[y:y+h, x:x+w]\n",
    "            mean_green_value = np.mean(face_roi[:, :, 1])\n",
    "            green_values.append(mean_green_value)\n",
    "\n",
    "    # Mostramos el fotograma actual\n",
    "    #cv2.imshow('Frame', frame)\n",
    "\n",
    "    # Procesamos menos frames por segundo en la visualización, para mejorar el rendimiento\n",
    "    if cv2.waitKey(30) & 0xFF == ord('q'):\n",
    "        break\n",
    "\n",
    "cap.release()\n",
    "cv2.destroyAllWindows()"
   ]
  },
  {
   "cell_type": "code",
   "execution_count": null,
   "metadata": {},
   "outputs": [],
   "source": []
  },
  {
   "cell_type": "code",
   "execution_count": 5,
   "metadata": {},
   "outputs": [
    {
     "name": "stdout",
     "output_type": "stream",
     "text": [
      "Pulso cardíaco estimado: 83.82 BPM\n"
     ]
    }
   ],
   "source": [
    "nyquist = 0.5 * fs\n",
    "low = 1.0 / nyquist\n",
    "high = 1.6 / nyquist\n",
    "b, a = signal.butter(1, [low, high], btype='band')\n",
    "filtered_signal = signal.filtfilt(b, a, green_values)\n",
    "\n",
    "# Identificación del pulso\n",
    "frequencies = np.fft.rfftfreq(len(filtered_signal), 1/fs)\n",
    "fft_values = np.fft.rfft(filtered_signal)\n",
    "pulse_frequency = frequencies[np.argmax(np.abs(fft_values))]\n",
    "pulse_rate = pulse_frequency * 60  # Convertir a latidos por minuto\n",
    "\n",
    "print(f\"Pulso cardíaco estimado: {pulse_rate:.2f} BPM\")"
   ]
  },
  {
   "cell_type": "code",
   "execution_count": 5,
   "metadata": {},
   "outputs": [],
   "source": [
    "cap.release()\n",
    "cv2.destroyAllWindows()"
   ]
  }
 ],
 "metadata": {
  "kernelspec": {
   "display_name": "Python 3",
   "language": "python",
   "name": "python3"
  },
  "language_info": {
   "codemirror_mode": {
    "name": "ipython",
    "version": 3
   },
   "file_extension": ".py",
   "mimetype": "text/x-python",
   "name": "python",
   "nbconvert_exporter": "python",
   "pygments_lexer": "ipython3",
   "version": "3.11.8"
  }
 },
 "nbformat": 4,
 "nbformat_minor": 2
}
