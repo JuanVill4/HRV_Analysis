{
 "cells": [
  {
   "cell_type": "code",
   "execution_count": 1,
   "metadata": {},
   "outputs": [],
   "source": [
    "import cv2\n",
    "import numpy as np\n",
    "from scipy.signal import butter, filtfilt, find_peaks\n"
   ]
  },
  {
   "cell_type": "code",
   "execution_count": 6,
   "metadata": {},
   "outputs": [],
   "source": [
    "# Cargar clasificadores pre-entrenados\n",
    "face_cascade = cv2.CascadeClassifier('haarcascade_frontalface_default.xml')\n",
    "eye_cascade = cv2.CascadeClassifier('haarcascade_eye.xml')\n",
    "\n",
    "# Cargar el video\n",
    "cap = cv2.VideoCapture('Juan60.mp4')\n",
    "\n"
   ]
  },
  {
   "cell_type": "code",
   "execution_count": 3,
   "metadata": {},
   "outputs": [
    {
     "name": "stdout",
     "output_type": "stream",
     "text": [
      "60\n"
     ]
    }
   ],
   "source": [
    "\n",
    "fps = cap.get(cv2.CAP_PROP_FPS)\n",
    "fps = round(fps)\n",
    "print(fps)"
   ]
  },
  {
   "cell_type": "code",
   "execution_count": 7,
   "metadata": {},
   "outputs": [],
   "source": [
    "def define_cheek_regions(eyes):\n",
    "    top_y = min([eye[1] for eye in eyes])\n",
    "    bottom_y = top_y + max([eye[3] for eye in eyes])\n",
    "    left_x = min([eye[0] for eye in eyes])\n",
    "    right_x = max([eye[0] + eye[2] for eye in eyes])\n",
    "    \n",
    "    cheek_width = (right_x - left_x) // 4\n",
    "    cheek_height = (bottom_y - top_y) * 2\n",
    "    \n",
    "    left_cheek = [left_x - cheek_width, top_y, cheek_width, cheek_height]\n",
    "    right_cheek = [right_x, top_y, cheek_width, cheek_height]\n",
    "    \n",
    "    return left_cheek, right_cheek\n",
    "\n"
   ]
  },
  {
   "cell_type": "code",
   "execution_count": 8,
   "metadata": {},
   "outputs": [
    {
     "ename": "error",
     "evalue": "OpenCV(4.8.1) D:\\a\\opencv-python\\opencv-python\\opencv\\modules\\imgproc\\src\\color.cpp:182: error: (-215:Assertion failed) !_src.empty() in function 'cv::cvtColor'\n",
     "output_type": "error",
     "traceback": [
      "\u001b[1;31m---------------------------------------------------------------------------\u001b[0m",
      "\u001b[1;31merror\u001b[0m                                     Traceback (most recent call last)",
      "\u001b[1;32mc:\\Users\\juanv\\Documents\\HRV_Analysis\\HRV_Face_segmentation.ipynb Cell 5\u001b[0m line \u001b[0;36m2\n\u001b[0;32m     <a href='vscode-notebook-cell:/c%3A/Users/juanv/Documents/HRV_Analysis/HRV_Face_segmentation.ipynb#W3sZmlsZQ%3D%3D?line=18'>19</a>\u001b[0m cheek_roi \u001b[39m=\u001b[39m roi_color[cy:cy\u001b[39m+\u001b[39mch, cx:cx\u001b[39m+\u001b[39mcw]\n\u001b[0;32m     <a href='vscode-notebook-cell:/c%3A/Users/juanv/Documents/HRV_Analysis/HRV_Face_segmentation.ipynb#W3sZmlsZQ%3D%3D?line=20'>21</a>\u001b[0m \u001b[39m# Aplicar filtro de piel y calcular área\u001b[39;00m\n\u001b[1;32m---> <a href='vscode-notebook-cell:/c%3A/Users/juanv/Documents/HRV_Analysis/HRV_Face_segmentation.ipynb#W3sZmlsZQ%3D%3D?line=21'>22</a>\u001b[0m hsv \u001b[39m=\u001b[39m cv2\u001b[39m.\u001b[39;49mcvtColor(cheek_roi, cv2\u001b[39m.\u001b[39;49mCOLOR_BGR2HSV)\n\u001b[0;32m     <a href='vscode-notebook-cell:/c%3A/Users/juanv/Documents/HRV_Analysis/HRV_Face_segmentation.ipynb#W3sZmlsZQ%3D%3D?line=22'>23</a>\u001b[0m mask \u001b[39m=\u001b[39m cv2\u001b[39m.\u001b[39minRange(hsv, (\u001b[39m0\u001b[39m, \u001b[39m10\u001b[39m, \u001b[39m60\u001b[39m), (\u001b[39m20\u001b[39m, \u001b[39m150\u001b[39m, \u001b[39m255\u001b[39m))\n\u001b[0;32m     <a href='vscode-notebook-cell:/c%3A/Users/juanv/Documents/HRV_Analysis/HRV_Face_segmentation.ipynb#W3sZmlsZQ%3D%3D?line=23'>24</a>\u001b[0m skin_area \u001b[39m=\u001b[39m cv2\u001b[39m.\u001b[39mcountNonZero(mask)\n",
      "\u001b[1;31merror\u001b[0m: OpenCV(4.8.1) D:\\a\\opencv-python\\opencv-python\\opencv\\modules\\imgproc\\src\\color.cpp:182: error: (-215:Assertion failed) !_src.empty() in function 'cv::cvtColor'\n"
     ]
    },
    {
     "ename": "",
     "evalue": "",
     "output_type": "error",
     "traceback": [
      "\u001b[1;31mThe Kernel crashed while executing code in the the current cell or a previous cell. Please review the code in the cell(s) to identify a possible cause of the failure. Click <a href='https://aka.ms/vscodeJupyterKernelCrash'>here</a> for more info. View Jupyter <a href='command:jupyter.viewOutput'>log</a> for further details."
     ]
    }
   ],
   "source": [
    "while True:\n",
    "    ret, frame = cap.read()\n",
    "    if not ret:\n",
    "        break\n",
    "    \n",
    "    gray = cv2.cvtColor(frame, cv2.COLOR_BGR2GRAY)\n",
    "    faces = face_cascade.detectMultiScale(gray, scaleFactor=1.1, minNeighbors=5)\n",
    "    \n",
    "    for (x, y, w, h) in faces:\n",
    "        roi_gray = gray[y:y+h, x:x+w]\n",
    "        roi_color = frame[y:y+h, x:x+w]\n",
    "        \n",
    "        eyes = eye_cascade.detectMultiScale(roi_gray)\n",
    "        if len(eyes) >= 2:  # Asegurando que se detecten al menos 2 ojos\n",
    "            cheeks = define_cheek_regions(eyes)\n",
    "            \n",
    "            for cheek in cheeks:\n",
    "                cx, cy, cw, ch = cheek\n",
    "                cheek_roi = roi_color[cy:cy+ch, cx:cx+cw]\n",
    "                \n",
    "                # Aplicar filtro de piel y calcular área\n",
    "                hsv = cv2.cvtColor(cheek_roi, cv2.COLOR_BGR2HSV)\n",
    "                mask = cv2.inRange(hsv, (0, 10, 60), (20, 150, 255))\n",
    "                skin_area = cv2.countNonZero(mask)\n",
    "                \n",
    "                # Visualización y análisis adicional si es necesario\n",
    "                cv2.rectangle(roi_color, (cx, cy), (cx+cw, cy+ch), (0, 255, 0), 2)\n",
    "        \n",
    "        cv2.rectangle(frame, (x, y), (x+w, y+h), (255, 0, 0), 2)\n",
    "    \n",
    "    #cv2.imshow('Frame', frame)\n",
    "    \n",
    "    if cv2.waitKey(1) & 0xFF == ord('q'):\n",
    "        break\n",
    "\n",
    "cap.release()\n",
    "cv2.destroyAllWindows()"
   ]
  },
  {
   "cell_type": "code",
   "execution_count": null,
   "metadata": {},
   "outputs": [],
   "source": [
    "color_signal = []\n",
    "\n",
    "\n",
    "\n",
    "# Diseñar filtro de banda para la frecuencia cardíaca\n",
    "nyq = 0.5 * fps\n",
    "low = 0.5 / nyq\n",
    "high = 4.0 / nyq\n",
    "b, a = butter(1, [low, high], btype='band')\n",
    "\n",
    "while True:\n",
    "    # ... [Código previo para la detección de rostro y mejillas]\n",
    "    \n",
    "    for cheek in cheeks:\n",
    "        cx, cy, cw, ch = cheek\n",
    "        cheek_roi = roi_color[cy:cy+ch, cx:cx+cw]\n",
    "        \n",
    "        # Extraer la señal de color\n",
    "        green_value = np.mean(cheek_roi[:, :, 1])  # Canal verde\n",
    "        color_signal.append(green_value)\n",
    "        \n",
    "        # Si tenemos suficientes muestras, procesar la señal para obtener el pulso\n",
    "        if len(color_signal) > fs * 5:  # Al menos 5 segundos de datos\n",
    "            # Filtrar la señal\n",
    "            filtered_signal = filtfilt(b, a, color_signal)\n",
    "            \n",
    "            # Encontrar picos\n",
    "            peaks, _ = find_peaks(filtered_signal, distance=fs*0.6)\n",
    "            \n",
    "            # Calcular la frecuencia cardíaca\n",
    "            if len(peaks) > 1:\n",
    "                peak_distances = np.diff(peaks)\n",
    "                mean_distance = np.mean(peak_distances)\n",
    "                heart_rate = 60.0 / mean_distance\n",
    "                print(f\"Estimated Heart Rate: {heart_rate:.2f} BPM\")\n",
    "            \n",
    "            # Limpiar la señal para evitar usar demasiada memoria\n",
    "            color_signal = color_signal[int(fps):]\n",
    "    \n",
    "    # ... [Resto del código para visualización y control]\n",
    "\n",
    "# ... [Liberar recursos]"
   ]
  }
 ],
 "metadata": {
  "kernelspec": {
   "display_name": "Python 3",
   "language": "python",
   "name": "python3"
  },
  "language_info": {
   "codemirror_mode": {
    "name": "ipython",
    "version": 3
   },
   "file_extension": ".py",
   "mimetype": "text/x-python",
   "name": "python",
   "nbconvert_exporter": "python",
   "pygments_lexer": "ipython3",
   "version": "3.11.8"
  }
 },
 "nbformat": 4,
 "nbformat_minor": 2
}
